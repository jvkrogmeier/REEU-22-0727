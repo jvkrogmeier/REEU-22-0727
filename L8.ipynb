{
 "cells": [
  {
   "cell_type": "markdown",
   "metadata": {},
   "source": [
    "# Lecture 8\n",
    "\n",
    "## Topics we still need to cover\n",
    " - More on Matplotlib\n",
    " - HW\n",
    " - Pandas\n",
    " \n",
    "For more detail on python please see the Purdue DataMine web link: <a href=\"https://thedatamine.github.io/the-examples-book/python.html\" target=\"_blank\">Data Mine on Python</a>\n",
    "\n",
    "Also see: <a href=\"https://docs.python.org/3/\" target=\"_blank\">Python 3.9.1 Documentation</a>"
   ]
  },
  {
   "cell_type": "code",
   "execution_count": null,
   "metadata": {},
   "outputs": [],
   "source": [
    "# Bring in the packages we have used before.\n",
    "\n",
    "import math\n",
    "import numpy as np\n",
    "import matplotlib as mpl\n",
    "import matplotlib.pyplot as plt\n",
    "import requests\n",
    "import pandas as pd"
   ]
  },
  {
   "cell_type": "markdown",
   "metadata": {},
   "source": [
    "## Finish the plotting using the lat-lon dictionary"
   ]
  },
  {
   "cell_type": "code",
   "execution_count": null,
   "metadata": {},
   "outputs": [],
   "source": [
    "csv_file_name = 'cities-and-towns-of-the-united-states.csv'\n",
    "my_file_name = 'Data/' + csv_file_name\n",
    "my_new_file_name = 'Data/' + 'Wrangled-' + csv_file_name"
   ]
  },
  {
   "cell_type": "code",
   "execution_count": null,
   "metadata": {},
   "outputs": [],
   "source": [
    "# This code block is just for reading the cities  and towns file and\n",
    "# putting the lat, lon, and data fields in the right place, then\n",
    "# rewriting.\n",
    "\n",
    "fin = open(my_file_name, \"r\")\n",
    "\n",
    "# This creates the file and, if aleady exists, erases any \n",
    "# old content\n",
    "fout = open(my_new_file_name, \"w\")\n",
    "fout.close() \n",
    "\n",
    "# Read the first line containing header and split the line \n",
    "# string into fields on the semi-colon separator. This returns a \n",
    "# list where each list element is one of comma delimited \n",
    "# strings. For the .csv files here there will be 18 \n",
    "# substrings in each line. They are numbered from 0 to 17. \n",
    "# We want to retain numbers\n",
    "# 4 ('FEATURE'), 5 ('FEATURE2'), 6 ('NAME'), 7('POP 2010'), \n",
    "# 8 ('COUNTY'), 9 ('COUNTY FIPS'), 10 ('STATE'), 11 ('STATE FIPS'), \n",
    "# 12 ('LATITUDE'), 13('LONGITUDE'), 16 ('ELEV in M')\n",
    "#\n",
    "# The code below creates the header for the new csv file\n",
    "\n",
    "line = fin.readline()\n",
    "fin.close()\n",
    "\n",
    "fields = line.split(';')\n",
    "newline = fields[4] + ',' + fields[5] + ',' + fields[6] + ','\n",
    "newline = newline + fields[7] + ',' + fields[8] + ',' + fields[9] + ','\n",
    "newline = newline + fields[10] + ',' +fields[11] + ','\n",
    "newline = newline + fields[12] + ',' +fields[13] + ',' + fields[16]\n",
    "\n",
    "fout = open(my_new_file_name, \"a\")\n",
    "print(newline, file=fout)\n",
    "fout.close() \n",
    "\n",
    "# Now I want to go through the input csv line by line deleting \n",
    "# the superfluous fields and appending the new lines to the \n",
    "# \"wrangled\" file.\n",
    "\n",
    "fin = open(my_file_name, \"r\")\n",
    "fin.readline() # Read the header line and move to 2nd line\n",
    "\n",
    "fout = open(my_new_file_name, \"a\")\n",
    "\n",
    "for line in fin:\n",
    "    fields = line.split(';')\n",
    "    newline = fields[4] + ',' + fields[5] + ',' + fields[6] + ','\n",
    "    newline = newline + fields[7] + ',' + fields[8] + ',' + fields[9] + ','\n",
    "    newline = newline + fields[10] + ',' +fields[11] + ','\n",
    "    newline = newline + fields[12] + ',' +fields[13] + ',' + fields[16]    \n",
    "    print(newline, file=fout)\n",
    "\n",
    "fin.close()\n",
    "fout.close()"
   ]
  },
  {
   "cell_type": "code",
   "execution_count": null,
   "metadata": {},
   "outputs": [],
   "source": [
    "# This code block reads the newly written file and creates the numpy\n",
    "# arrays containing the interesting data in the correct order. That data\n",
    "# is:\n",
    "# x --> longitude\n",
    "# y --> lattitude\n",
    "# e --> elevation in meters\n",
    "# p --> population\n",
    "\n",
    "fin = open(my_new_file_name, \"r\")\n",
    "fin.readline() # Read the header line and move to 2nd line\n",
    "k = 0\n",
    "\n",
    "for line in fin:\n",
    "    fields = line.split(',')\n",
    "    T1 = fields[1] == 'State Capital County Seat'\n",
    "    T2 = fields[1] == 'County Seat'\n",
    "    if T1 or T2:\n",
    "        k = k + 1\n",
    "        \n",
    "fin.close()\n",
    "\n",
    "fin = open(my_new_file_name, \"r\")\n",
    "fin.readline() # Read the header line and move to 2nd line\n",
    "        \n",
    "x = np.zeros(k)\n",
    "y = np.zeros(k)\n",
    "e = np.zeros(k)\n",
    "p = np.zeros(k)\n",
    "\n",
    "l = 0\n",
    "for line in fin:\n",
    "    fields = line.split(',')\n",
    "    T1 = fields[1] == 'State Capital County Seat'\n",
    "    T2 = fields[1] == 'County Seat'\n",
    "    if T1 or T2:\n",
    "        x[l] = float(fields[9])\n",
    "        y[l] = float(fields[8])\n",
    "        p[l] = float(fields[3])\n",
    "        e[l] = float(fields[10])\n",
    "        l = l + 1\n",
    "\n",
    "fin.close()\n"
   ]
  },
  {
   "cell_type": "markdown",
   "metadata": {},
   "source": [
    "## Previously we had run this code block below, which creates a scatter plot"
   ]
  },
  {
   "cell_type": "code",
   "execution_count": null,
   "metadata": {},
   "outputs": [],
   "source": [
    "fig = plt.figure()\n",
    "plt.style.use('classic')\n",
    "plt.plot(x, y, '.')\n",
    "plt.title(\"Example Plot\")\n",
    "plt.xlabel(\"x\")\n",
    "plt.ylabel(\"y\")\n",
    "plt.grid()"
   ]
  },
  {
   "cell_type": "markdown",
   "metadata": {},
   "source": [
    "## If we want to modify the points according to some other data set, then we can change `plt.plot` to `plt.scatter` ...\n",
    "\n",
    "For tutorial material on matplotlib ...\n",
    "\n",
    "<a href=\"https://matplotlib.org/\" target=\"_blank\">Matplotlib Documentation</a>"
   ]
  },
  {
   "cell_type": "code",
   "execution_count": null,
   "metadata": {},
   "outputs": [],
   "source": [
    "fig = plt.figure()\n",
    "plt.style.use('classic')\n",
    "plt.scatter(x, y, c=e, cmap='cool')\n",
    "plt.colorbar()\n",
    "plt.title(\"U.S. Counties by County Seat, Elevation in m\")\n",
    "plt.xlabel(\"Longitude Degrees\")\n",
    "plt.ylabel(\"Latitude Degrees\")\n",
    "plt.grid()"
   ]
  },
  {
   "cell_type": "markdown",
   "metadata": {},
   "source": [
    "## What if we wanted to make adjustments ... ?\n",
    "\n",
    "Limit the range of points displayed\n",
    "\n",
    "Make the axes square\n",
    "\n"
   ]
  },
  {
   "cell_type": "code",
   "execution_count": null,
   "metadata": {},
   "outputs": [],
   "source": [
    "# Limit the range of points shown\n",
    "\n",
    "fig = plt.figure()\n",
    "plt.style.use('classic')\n",
    "plt.scatter(x, y, c=e, cmap='cool')\n",
    "plt.colorbar()\n",
    "plt.title(\"U.S. Counties by County Seat, Elevation in m\")\n",
    "plt.xlabel(\"Longitude Degrees\")\n",
    "plt.ylabel(\"Latitude Degrees\")\n",
    "plt.xlim(-130,-65)\n",
    "plt.ylim(24,50)\n",
    "plt.grid()"
   ]
  },
  {
   "cell_type": "code",
   "execution_count": null,
   "metadata": {},
   "outputs": [],
   "source": [
    "# Make the axes square ...\n",
    "\n",
    "fig = plt.figure()\n",
    "plt.style.use('classic')\n",
    "plt.scatter(x, y, c=e, cmap='cool')\n",
    "plt.axes().set_aspect('equal', adjustable='datalim')\n",
    "plt.colorbar()\n",
    "plt.title(\"U.S. Counties by County Seat, Elevation in m\")\n",
    "plt.xlabel(\"Longitude Degrees\")\n",
    "plt.ylabel(\"Latitude Degrees\")\n",
    "plt.grid()"
   ]
  },
  {
   "cell_type": "code",
   "execution_count": null,
   "metadata": {},
   "outputs": [],
   "source": []
  },
  {
   "cell_type": "markdown",
   "metadata": {},
   "source": [
    "### Of course the perspective looks wrong. Latitude and longitude degrees are not equal in distance.\n",
    "\n",
    "Go to Smith Center, Kansas as a compromise ... 39.779823, -98.787064\n",
    "\n",
    "Also see: <a href=\"https://www.latlong.net/place/smith-center-ks-usa-32451.html\" target=\"_blank\">Smith Center, KS</a>\n",
    "\n",
    "There are a number of distance calculators. At Smith Center, KS ... one degree of longitude corresponds to about 53.1 miles and one degree of latitude corresponds to about 69.1 miles. Therefore, we might scale for distance by"
   ]
  },
  {
   "cell_type": "code",
   "execution_count": null,
   "metadata": {},
   "outputs": [],
   "source": [
    "fig = plt.figure()\n",
    "plt.style.use('classic')\n",
    "plt.scatter(x, 1.3*y, c=e, cmap='cool')\n",
    "plt.axes().set_aspect('equal', adjustable='datalim')\n",
    "plt.colorbar()\n",
    "plt.title(\"U.S. Counties by County Seat, Elevation in m\")\n",
    "plt.xlabel(\"Normalized Distance in Longitude Direction\")\n",
    "plt.ylabel(\"Normalized Distance in Latitude Direction\")\n",
    "plt.xlim(-130,-65)\n",
    "plt.ylim(30,65)\n",
    "plt.grid()\n",
    "fig.savefig('Data/USCountyElevations.png')\n",
    "fig.savefig('Data/USCountyElevations.pdf')"
   ]
  },
  {
   "cell_type": "code",
   "execution_count": null,
   "metadata": {},
   "outputs": [],
   "source": []
  },
  {
   "cell_type": "code",
   "execution_count": null,
   "metadata": {},
   "outputs": [],
   "source": []
  },
  {
   "cell_type": "code",
   "execution_count": null,
   "metadata": {},
   "outputs": [],
   "source": []
  },
  {
   "cell_type": "markdown",
   "metadata": {},
   "source": [
    "## Try a different type of plot ..."
   ]
  },
  {
   "cell_type": "code",
   "execution_count": null,
   "metadata": {},
   "outputs": [],
   "source": [
    "fig = plt.figure()\n",
    "plt.style.use('classic')\n",
    "plt.scatter(x, y, s=0.0003*p, alpha=0.4)\n",
    "plt.title(\"U.S. Counties by County Seat, Pop.\")\n",
    "plt.xlabel(\"Longitude Degrees\")\n",
    "plt.ylabel(\"Latitude Degrees\")\n",
    "plt.xlim(-130,-65)\n",
    "plt.ylim(24,50)\n",
    "plt.grid()"
   ]
  },
  {
   "cell_type": "markdown",
   "metadata": {},
   "source": [
    "## Runtime warning: There are apparently some negative values in the population column. \n",
    "Get rid of them."
   ]
  },
  {
   "cell_type": "code",
   "execution_count": null,
   "metadata": {},
   "outputs": [],
   "source": [
    "np.min(p)"
   ]
  },
  {
   "cell_type": "markdown",
   "metadata": {},
   "source": [
    "### Dataset uses -999 when data is missing ... we should find and remove or replace these ..."
   ]
  },
  {
   "cell_type": "code",
   "execution_count": null,
   "metadata": {},
   "outputs": [],
   "source": [
    "# Everywhere we find a -999 in the population column replace it with zero\n",
    "\n",
    "k = 0\n",
    "for k in range(len(p)):\n",
    "    if p[k] == -999.0:\n",
    "        p[k] = 0\n",
    "\n",
    "np.min(p)"
   ]
  },
  {
   "cell_type": "code",
   "execution_count": null,
   "metadata": {},
   "outputs": [],
   "source": [
    "fig = plt.figure()\n",
    "plt.style.use('classic')\n",
    "plt.scatter(x, y, s=0.0003*p, alpha=0.4)\n",
    "plt.title(\"U.S. Counties by County Seat, Pop.\")\n",
    "plt.xlabel(\"Longitude Degrees\")\n",
    "plt.ylabel(\"Latitude Degrees\")\n",
    "plt.xlim(-130,-65)\n",
    "plt.ylim(24,50)\n",
    "plt.grid()"
   ]
  },
  {
   "cell_type": "code",
   "execution_count": null,
   "metadata": {},
   "outputs": [],
   "source": []
  },
  {
   "cell_type": "markdown",
   "metadata": {},
   "source": [
    "## A HW problem: Use the average wheat yields data from L5 and the FIPS dictionary from L6 with the mapping methods above to create maps of county average wheat yields for any specified year ...\n",
    "\n",
    "### Could you make a movie (a series of maps) over time?\n",
    "\n",
    "### Could you find a real map projection rather than our poor Smith Center scaling approach?"
   ]
  },
  {
   "cell_type": "code",
   "execution_count": null,
   "metadata": {},
   "outputs": [],
   "source": []
  },
  {
   "cell_type": "code",
   "execution_count": null,
   "metadata": {},
   "outputs": [],
   "source": []
  },
  {
   "cell_type": "markdown",
   "metadata": {},
   "source": [
    "# Pandas\n",
    "\n",
    "The Pandas package is built on top of numpy. It gives us an efficient implementation of something called a `DataFrame`, which are multi-dimensional arrays that have attached row and column labels and can hold heterogeneous data and missing values.\n",
    "\n",
    "The package is particularly good for data wrangling tasks such as grouping and pivot tables.\n",
    "\n",
    "There are three main Pandas data structures: `Series`, `DataFrame`, and `Index`\n",
    "\n",
    "For documentation and tutorials see ...\n",
    "\n",
    "Also see: <a href=\"https://pandas.pydata.org/docs/\" target=\"_blank\">Pandas Documentation</a>"
   ]
  },
  {
   "cell_type": "code",
   "execution_count": null,
   "metadata": {},
   "outputs": [],
   "source": [
    "# What version of pandas are we running ... ?\n",
    "pd.__version__"
   ]
  },
  {
   "cell_type": "markdown",
   "metadata": {},
   "source": [
    "## Example Data ...\n",
    "\n",
    "I will want some data to illustrate Pandas concepts. For this I will use a data set logged from my cell phone as I traveled from Indiana to Colorado for wheat harvest a few years ago. The code below is used to wrangle the raw file and save it as a nice csv."
   ]
  },
  {
   "cell_type": "code",
   "execution_count": null,
   "metadata": {},
   "outputs": [],
   "source": [
    "# This cell is used to create a dictionary that I can use to examine\n",
    "# the header categories in the sample file. It is helpful to look at the\n",
    "# header names along with a sample of their values.\n",
    "\n",
    "csv_file_name = 'Session_1_20190626_172927.csv'\n",
    "my_file_name = 'Data/' + csv_file_name\n",
    "my_new_file_name = 'Data/' + 'Wrangled-' + csv_file_name\n",
    "\n",
    "fin = open(my_file_name, \"r\")\n",
    "\n",
    "line1 = fin.readline() # Header line\n",
    "line2 = fin.readline() # A data or values line\n",
    "\n",
    "fields1 = line1.split(';')\n",
    "fields2 = line2.split(';')\n",
    "\n",
    "fin.close()\n",
    "\n",
    "# Create a dictionary and look at it just so one can see the correspondence\n",
    "# between label and data ... in order to see what to keep\n",
    "\n",
    "JVKdict = {fields1[i]: fields2[i] for i in range(len(fields1))}\n",
    "\n",
    "JVKdict"
   ]
  },
  {
   "cell_type": "markdown",
   "metadata": {},
   "source": [
    "### What do I see ... ?\n",
    "\n",
    "Looking at the dictionary above I get some clues as to what columns I want to keep in the wrangled file ...\n",
    "\n",
    "Some of these I looked up using google:\n",
    "\n",
    "* arfcn = Absolute radio-frequency channel number \n",
    "* cid = Cell identification number\n",
    "* lac_tac = has something to do with the location code of a base station set\n",
    "\n",
    "Other columns were selected as below and put into a list structure. This can be edited to change the columns for examination.\n",
    "\n",
    "**Note:** There is a direct way to accomplish the same thing just using pandas and I will demonstrate that after we introduce some pandas ideas using this simpler csv file."
   ]
  },
  {
   "cell_type": "code",
   "execution_count": null,
   "metadata": {},
   "outputs": [],
   "source": [
    "# My version of the columns to keep. Edit to change ...\n",
    "\n",
    "ColsToKeep = ['accuracy', 'arfcn', 'band', 'cid', 'gps', 'lat', 'long', 'net_op_name', 'net_type', 'roaming', 'rssi', 'sys_time', 'tech']"
   ]
  },
  {
   "cell_type": "markdown",
   "metadata": {},
   "source": [
    "### To create a wrangled example file run the next cell ..."
   ]
  },
  {
   "cell_type": "code",
   "execution_count": null,
   "metadata": {},
   "outputs": [],
   "source": [
    "cindex = []\n",
    "\n",
    "for string in ColsToKeep:\n",
    "    cindex.append(fields1.index(string))\n",
    "\n",
    "newfields1 = []\n",
    "\n",
    "for k in range(len(cindex)):\n",
    "    c = cindex[k]\n",
    "    s = fields1[c]\n",
    "    newfields1.append(s)\n",
    "\n",
    "# This creates the file and, if aleady exists, erases any \n",
    "# old content\n",
    "fout = open(my_new_file_name, \"w\")\n",
    "fout.close() \n",
    "\n",
    "# The code below creates the header for the new csv file\n",
    "\n",
    "newline = ','.join(newfields1)\n",
    "\n",
    "fout = open(my_new_file_name, \"a\")\n",
    "print(newline, file=fout)\n",
    "\n",
    "# To create the remainder of the new file\n",
    "fin = open(my_file_name, \"r\")\n",
    "\n",
    "fin.readline() # Move past the heading in the input file\n",
    "\n",
    "for line in fin:\n",
    "    \n",
    "    fields2 = line.split(';')\n",
    "    \n",
    "    newfields2 = []\n",
    "\n",
    "    for k in range(len(cindex)):\n",
    "        c = cindex[k]\n",
    "        s = fields2[c]\n",
    "        newfields2.append(s)\n",
    "    \n",
    "    newline = ','.join(newfields2)\n",
    "\n",
    "    print(newline, file=fout)\n",
    "\n",
    "fin.close()\n",
    "fout.close()"
   ]
  },
  {
   "cell_type": "markdown",
   "metadata": {},
   "source": [
    "## Pandas DataFrame\n",
    "\n",
    "Pandas provides many methods and functions to implement the wrangling code we've been using up until now.\n",
    "\n",
    "One function of particular use is `pandas.read_csv()` ...\n",
    "\n",
    "<a href=\"https://pandas.pydata.org/docs/reference/api/pandas.read_csv.html\" target=\"_blank\">Pandas Read CSV</a>\n",
    "\n",
    "<a href=\"https://pythonbasics.org/read-csv-with-pandas/\" target=\"_blank\">Pandas Tutorial</a>"
   ]
  },
  {
   "cell_type": "code",
   "execution_count": null,
   "metadata": {},
   "outputs": [],
   "source": [
    "# The read csv function returns a pandas dataframe\n",
    "\n",
    "CellLog = pd.read_csv(my_new_file_name)"
   ]
  },
  {
   "cell_type": "code",
   "execution_count": null,
   "metadata": {},
   "outputs": [],
   "source": [
    "type(CellLog)"
   ]
  },
  {
   "cell_type": "markdown",
   "metadata": {},
   "source": [
    "### Pandas index\n",
    "\n",
    "Data frames have an explicit index which allows to reference and modify data. It can be thought of as either an immutable array or as an ordered set. But note that index objects can contain repeated entries."
   ]
  },
  {
   "cell_type": "code",
   "execution_count": null,
   "metadata": {},
   "outputs": [],
   "source": [
    "CellLog.index"
   ]
  },
  {
   "cell_type": "code",
   "execution_count": null,
   "metadata": {},
   "outputs": [],
   "source": [
    "len(CellLog.index)"
   ]
  },
  {
   "cell_type": "code",
   "execution_count": null,
   "metadata": {},
   "outputs": [],
   "source": [
    "CellLog.index[5]"
   ]
  },
  {
   "cell_type": "code",
   "execution_count": null,
   "metadata": {},
   "outputs": [],
   "source": [
    "# Immutable means that you cannot modify entries by assignment statements ...\n",
    "\n",
    "CellLog.index[5] = 17"
   ]
  },
  {
   "cell_type": "markdown",
   "metadata": {},
   "source": [
    "### Immutability of the index set makes it safer to share indices between multiple data frames, which is useful for many operations ..."
   ]
  },
  {
   "cell_type": "code",
   "execution_count": null,
   "metadata": {},
   "outputs": [],
   "source": [
    "# You can access the columns in the following way ...\n",
    "\n",
    "CellLog.columns"
   ]
  },
  {
   "cell_type": "code",
   "execution_count": null,
   "metadata": {},
   "outputs": [],
   "source": [
    "# You can reference the series  indexed by a particular column in the following way ...\n",
    "\n",
    "Time = CellLog['sys_time']"
   ]
  },
  {
   "cell_type": "code",
   "execution_count": null,
   "metadata": {},
   "outputs": [],
   "source": [
    "type(Time)"
   ]
  },
  {
   "cell_type": "code",
   "execution_count": null,
   "metadata": {},
   "outputs": [],
   "source": [
    "Time"
   ]
  },
  {
   "cell_type": "code",
   "execution_count": null,
   "metadata": {},
   "outputs": [],
   "source": [
    "print(CellLog)"
   ]
  },
  {
   "cell_type": "code",
   "execution_count": null,
   "metadata": {},
   "outputs": [],
   "source": [
    "CellLog"
   ]
  },
  {
   "cell_type": "markdown",
   "metadata": {},
   "source": [
    "## Various Operations on Pandas Series ..."
   ]
  },
  {
   "cell_type": "code",
   "execution_count": null,
   "metadata": {},
   "outputs": [],
   "source": [
    "CellLog['tech'].unique()"
   ]
  },
  {
   "cell_type": "code",
   "execution_count": null,
   "metadata": {},
   "outputs": [],
   "source": [
    "plt.plot(Time)"
   ]
  },
  {
   "cell_type": "code",
   "execution_count": null,
   "metadata": {},
   "outputs": [],
   "source": [
    "CellLog['gps'].unique()"
   ]
  },
  {
   "cell_type": "code",
   "execution_count": null,
   "metadata": {},
   "outputs": [],
   "source": [
    "CellLog['accuracy'].unique()"
   ]
  },
  {
   "cell_type": "code",
   "execution_count": null,
   "metadata": {},
   "outputs": [],
   "source": [
    "CellLog['band'].unique()"
   ]
  },
  {
   "cell_type": "code",
   "execution_count": null,
   "metadata": {},
   "outputs": [],
   "source": [
    "Power = CellLog['rssi']"
   ]
  },
  {
   "cell_type": "code",
   "execution_count": null,
   "metadata": {},
   "outputs": [],
   "source": [
    "type(Power)"
   ]
  },
  {
   "cell_type": "code",
   "execution_count": null,
   "metadata": {},
   "outputs": [],
   "source": [
    "plt.plot(Power)"
   ]
  },
  {
   "cell_type": "code",
   "execution_count": null,
   "metadata": {},
   "outputs": [],
   "source": [
    "Power.unique()"
   ]
  },
  {
   "cell_type": "code",
   "execution_count": null,
   "metadata": {},
   "outputs": [],
   "source": []
  },
  {
   "cell_type": "code",
   "execution_count": null,
   "metadata": {},
   "outputs": [],
   "source": [
    "New = CellLog['rssi'] < 1"
   ]
  },
  {
   "cell_type": "code",
   "execution_count": null,
   "metadata": {},
   "outputs": [],
   "source": [
    "type(New)"
   ]
  },
  {
   "cell_type": "code",
   "execution_count": null,
   "metadata": {},
   "outputs": [],
   "source": [
    "New"
   ]
  },
  {
   "cell_type": "code",
   "execution_count": null,
   "metadata": {},
   "outputs": [],
   "source": [
    "plt.plot(New)"
   ]
  },
  {
   "cell_type": "code",
   "execution_count": null,
   "metadata": {},
   "outputs": [],
   "source": [
    "NewRssi = CellLog['rssi'].loc[New]"
   ]
  },
  {
   "cell_type": "code",
   "execution_count": null,
   "metadata": {},
   "outputs": [],
   "source": [
    "plt.plot(NewRssi)"
   ]
  },
  {
   "cell_type": "code",
   "execution_count": null,
   "metadata": {},
   "outputs": [],
   "source": []
  },
  {
   "cell_type": "code",
   "execution_count": null,
   "metadata": {},
   "outputs": [],
   "source": []
  }
 ],
 "metadata": {
  "kernelspec": {
   "display_name": "Python 3",
   "language": "python",
   "name": "python3"
  },
  "language_info": {
   "codemirror_mode": {
    "name": "ipython",
    "version": 3
   },
   "file_extension": ".py",
   "mimetype": "text/x-python",
   "name": "python",
   "nbconvert_exporter": "python",
   "pygments_lexer": "ipython3",
   "version": "3.8.8"
  }
 },
 "nbformat": 4,
 "nbformat_minor": 2
}
